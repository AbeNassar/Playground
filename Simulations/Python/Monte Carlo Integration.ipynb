{
 "cells": [
  {
   "cell_type": "markdown",
   "metadata": {},
   "source": [
    "# Monte Carlo Integration\n",
    "  This notebook will be a tutorial on Monte Carlo integration, which approximates integrals by taking advantage of the relationship between averaging and integrals. \n",
    "\n",
    "  To begin, recall the definition of expected value of a random variable $X$ with a probability distribution function (PDF) $f_X(x)$ is \n",
    "$$\n",
    "  \\mathbb{E}[X] = \\int_{-\\infty}^{\\infty} x \\cdot f_X(x) dx.\n",
    "$$\n",
    "Moreover, if we define a new random variable $Y$ that is a function of $X$ (i.e. $Y=h(X)$ for some function $h$), the expected value of $Y$ is as follows:\n",
    "$$\n",
    "  \\mathbb{E}[Y] = \\mathbb{E}[h(X)] = \\int_{-\\infty}^{\\infty} h(x) \\cdot f_X(x) dx.\n",
    "$$\n",
    "\n",
    "  The last fact we need is the law of large numbers states that we can approximate the expected value by averaging. So if we take $N$ sample from the distribution defined by $f_X(x)$, say $\\{x_1, x_2, \\dots, x_N\\}$, we can approximate the exected value of $Y$ as\n",
    "$$\n",
    "  \\mathbb{E}[Y] = \\int_{-\\infty}^{\\infty} h(x) \\cdot f_X(x) \\,dx \\approx \\frac{1}{N} \\sum_{i=1}^{N} h(x_i) \\qquad \\text{where $x_i$ is drawn from $X$.} \n",
    "$$\n",
    "So instead of calculating the integral, which can be difficult, we can approximate it by plugging those $x_i$ values into $h$.\n",
    "\n",
    "### Example 1: Approximating Integrals With Finite Bounds\n",
    "One of the easier examples of Monte Carlo integration is with finite bound. In this example, we will look at $\\int_0^1\\left ( 1-x^2\\right)^{3/2}dx$. To apply Monte Carlo integration, we need to write the integral in the form $\\int_{-\\infty}^{\\infty} h(x) \\cdot f_X(x) dx$. Since we have a finite integral with bounds 0 and 1, we can choose $f_X(x)$ to be the PDF of the uniform distribution. That means that $h(x)$ has to be $\\left ( 1-x^2\\right)^{3/2}$. Now that we know $h$ and the distribution of $X$, we can calculate the approximation. So let's draw $N=1,000$ samples from $\\mathrm{Unif}(0,1)$, plug that into $h$ and find the average."
   ]
  },
  {
   "cell_type": "code",
   "execution_count": 1,
   "metadata": {
    "collapsed": false
   },
   "outputs": [
    {
     "data": {
      "text/plain": [
       "0.58988409593636493"
      ]
     },
     "execution_count": 1,
     "metadata": {},
     "output_type": "execute_result"
    }
   ],
   "source": [
    "import scipy.stats as ss\n",
    "import numpy as np\n",
    "import matplotlib.pyplot as plt\n",
    "N=1000\n",
    "\n",
    "# Define the function h\n",
    "h = lambda x: (1-x**2)**(3.0/2)\n",
    "\n",
    "# Define the distribution\n",
    "dist = ss.uniform(loc=0, scale=1)\n",
    "\n",
    "# Randomly draw N samples from the distribution\n",
    "x = dist.rvs(N)\n",
    "\n",
    "# Apply h to the samples\n",
    "y = map(h,x)\n",
    "\n",
    "# Average\n",
    "sum(y)/N"
   ]
  },
  {
   "cell_type": "markdown",
   "metadata": {},
   "source": [
    "We can encapsulate this into a function for ease of use."
   ]
  },
  {
   "cell_type": "code",
   "execution_count": 2,
   "metadata": {
    "collapsed": false
   },
   "outputs": [],
   "source": [
    "def MonteCarloApprox(h, dist, N=1000):\n",
    "    \"\"\" INPUT: h -> a function.\n",
    "               dist -> a probability distribution from scipy stats.\n",
    "               N -> number of draws from the pdf\n",
    "       OUTPUT: a float that is the approximation of the integral of h*pdf over real numbers.\n",
    "    \"\"\"\n",
    "    # Draw x randomly\n",
    "    x = dist.rvs(N)\n",
    "    \n",
    "    # Apply h to the samples\n",
    "    y = map(h,x)\n",
    "    \n",
    "    # Average\n",
    "    integralAprrox = sum(y)/N\n",
    "    \n",
    "    return integralAprrox"
   ]
  },
  {
   "cell_type": "markdown",
   "metadata": {},
   "source": [
    "For comparison, we can actually calculate the integral by hand using trig substitution. \n",
    "\n",
    "\\begin{align*}\n",
    "  I &= \\int_0^1\\left ( 1-x^2 \\right)^{3/2}\\;dx \n",
    "    && \\text{Let }x=\\sin(u)\\text{, then }dx=\\cos(u)\\;du\\\\\n",
    "    &= \\int_{\\sin^{-1}(0)}^{\\sin^{-1}(1)}\\left ( 1-\\sin^2(u)\\right)^{3/2}\\cos(u)\\;du\n",
    "    && \\text{Use Pythagorean identitiy: }1-\\sin^2(u)=\\cos^2(u).\\\\    \n",
    "    &= \\int_{0}^{\\pi/2}\\left ( \\cos^2(u)\\right)^{3/2}\\cos(u)\\;du\\\\\n",
    "    &= \\int_{0}^{\\pi/2}\\cos^4(u)\\;du\n",
    "    && \\text{Use the half-angle identity.}\\\\\n",
    "    &= \\int_{0}^{\\pi/2}\\frac{1}{4}\\left[1+\\cos(2u)\\right]^2du\\\\\n",
    "    &= \\int_{0}^{\\pi/2} \\frac{1}{4} \\left[1+2\\cos(2u) + \\cos^2(2u)\\right] du\n",
    "    && \\text{Use the half-angle identity again.}\\\\\n",
    "    &= \\int_{0}^{\\pi/2} \\frac{1}{4} \\left[1+2\\cos(2u) + \\frac{1}{2}+\\frac{1}{2}\\cos(4u)\\right] du\\\\\n",
    "    &= \\frac{1}{4} \\left[u + \\sin(2u) + \\frac{1}{2}u+\\frac{1}{8}\\sin(4u)\\right]_{u=0}^{u=\\pi/2}\\\\\n",
    "    &= \\frac{3\\pi}{16}\n",
    "\\end{align*}\n",
    "\n",
    "So we know the true value of the integral is $3\\pi/16$. Note how tedious this integral was and this is a relatively easy integral to evaluate. Many integrals you might come across are impossible to do by hand, so we see why Monte Carlo integration is useful. \n",
    "\n",
    "Now let's run simulations to see how close we get to the correct value of $3\\pi/16$. I'll calculate 100 approximation with different values of $N$. Namely, I'll use $N=1,000$, $N=10,000$ and $N=100,000$ and compare the box plots. "
   ]
  },
  {
   "cell_type": "code",
   "execution_count": 3,
   "metadata": {
    "collapsed": false
   },
   "outputs": [
    {
     "data": {
      "image/png": "[encoded data removed]",
      "text/plain": [
       "<matplotlib.figure.Figure at 0x1079eecd0>"
      ]
     },
     "metadata": {},
     "output_type": "display_data"
    }
   ],
   "source": [
    "% matplotlib inline\n",
    "def plotApproximations(h, dist, correctValue=None):\n",
    "    \"\"\" INPUT: h -> a function.\n",
    "               dist -> a probability distribution from scipy stats.\n",
    "               correctValue -> (optional) The correct vlaue of the integral to \n",
    "                 be approximated\n",
    "       OUTPUT: Displays 3 blox plots with N=1,000 iterations, N=10,000 \n",
    "               iterations and N=100,000 iterations. If the correctValue is given\n",
    "               a green horixontal line will also be displayed over the boxplots \n",
    "    \"\"\"\n",
    "    \n",
    "    # 100 Approximation with N=100\n",
    "    I_1000 = map(lambda i: MonteCarloApprox(h, dist, N=1000), range(100))      \n",
    "\n",
    "    # 100 Approximation with N=1000\n",
    "    I_10000 = map(lambda i: MonteCarloApprox(h, dist, N=10000), range(100))    \n",
    "    \n",
    "    # 100 Approximation with N=10000\n",
    "    I_100000 = map(lambda i: MonteCarloApprox(h, dist, N=100000), range(100))  \n",
    "    \n",
    "    # Creating boxplots\n",
    "    plt.figure(figsize=[6,4])\n",
    "    plt.boxplot([I_1000,I_10000,I_100000], labels=[\"N=1,000\",\"N=10,000\",\"N=100,000\"])\n",
    "    plt.title(\"Boxplot of Monte Carlo Approximations\")\n",
    "    \n",
    "    # Plotting the correct values\n",
    "    if correctValue is not None:\n",
    "        plt.axhline(y=correctValue, color=\"g\", ls=\"--\", lw=2, label=\"Correct Value\")\n",
    "        plt.legend()\n",
    "\n",
    "h = lambda x: (1-x**2)**(3.0/2)\n",
    "dist = ss.uniform(loc=0, scale=1)\n",
    "\n",
    "# True value for comparison\n",
    "correctValue = 3*np.pi/16\n",
    "\n",
    "plotApproximations(h, dist, correctValue)"
   ]
  },
  {
   "cell_type": "markdown",
   "metadata": {},
   "source": [
    "So we see that for larger values of $N$ we are more likely to get an approximation close to the true value. \n",
    "\n",
    "Generally, if we have an integral with finite bounds $a$ and $b$, we choose $f_X(x)$ to be the pdf of $\\mathrm{Unif}(a,b)$ and we choose $h(x)$ to be the entire function in the integral. "
   ]
  },
  {
   "cell_type": "markdown",
   "metadata": {},
   "source": [
    "### Example 2: Approximating Integrals With Infinite Bounds\n",
    "As we saw in the previous example if we have finite bounds we can always sample from the uniform distribution. However if we look at \n",
    "$$\\int_0^\\infty \\frac{x}{\\left(1+x^2\\right)^{2}} dx,$$ \n",
    "we can't use the uniform distribution, $\\mathrm{Unif}(a,b)$, because it can only draw samples, $x_i$, from the interval $(a,b)$ but we need to samples to come from the interval $(0,\\infty)$. So instead of the uniform distribution, we can use the exponential distribution with $\\lambda=1$, $\\mathrm{exp}(1)$. This is a good choice since if we randomly sample the exponential distribution, we will get values between 0 and infinity. However, it complecates how we choose $h(x)$ because $f_X(x)$ is no longer a constant like it was in the previous example so we can't just choose $h$ to be the entire function in the integral. Recall that we essentially want to write the function in the integral, ${x}/{\\left(1+x^2\\right)^{2}}$, as $h(x) \\cdot f_X(x)$. If we choose $X\\sim\\exp(1)$, then the pdf is $f_X(x)=e^{-x}$. If we plug this in, we can solve for $h(x)$.\n",
    "\n",
    "\\begin{align*}\n",
    "  \\frac{x}{\\left(1+x^2\\right)^{2}} &= h(x) \\cdot f_X(x) \\\\\n",
    "   \\frac{x}{\\left(1+x^2\\right)^{2}} \\cdot e^{x} &= h(x) \\cdot e^{-x} \\cdot e^{x}  \\\\\n",
    "   \\frac{xe^{x}}{\\left(1+x^2\\right)^{2}} &= h(x)\n",
    "\\end{align*}\n",
    "\n",
    "So now that we know $h(x)$ and we know know the distribution is $X\\sim\\exp(1)$, we can calculate the Monte Carlo approximation by calculating the following:\n",
    "\n",
    "\\begin{align*}\n",
    "  \\int_0^\\infty \\frac{x}{\\left(1+x^2\\right)^{2}} dx \n",
    "  &\\approx \\frac{1}{N}\\sum_{i=1}^{N}h(x_i)\n",
    "  = \\frac{1}{N}\\sum_{i=1}^{N}\\frac{x_ie^{x_i}}{\\left(1+{x_i}^2\\right)^{2}}\n",
    "\\end{align*}\n",
    "\n",
    "where $x_i$ is drawn randomly from $\\exp(1)$ for each $i$."
   ]
  },
  {
   "cell_type": "code",
   "execution_count": 4,
   "metadata": {
    "collapsed": false
   },
   "outputs": [
    {
     "data": {
      "image/png": "[encoded data removed]",
      "text/plain": [
       "<matplotlib.figure.Figure at 0x10f2fab10>"
      ]
     },
     "metadata": {},
     "output_type": "display_data"
    }
   ],
   "source": [
    "h = lambda x: (x*np.exp(x))/np.power(1+np.power(x, 2), 2)\n",
    "dist = ss.expon(loc=0, scale=1)\n",
    "correctVal = 1.0/2\n",
    "\n",
    "plotApproximations(h, dist, correctVal)"
   ]
  }
 ],
 "metadata": {
  "anaconda-cloud": {
   "attach-environment": true,
   "summary": "Monte Carlo Integration",
   "url": "https://anaconda.org/abenassar/monte-carlo-integration"
  },
  "kernelspec": {
   "display_name": "Python [default]",
   "language": "python",
   "name": "python2"
  },
  "language_info": {
   "codemirror_mode": {
    "name": "ipython",
    "version": 2
   },
   "file_extension": ".py",
   "mimetype": "text/x-python",
   "name": "python",
   "nbconvert_exporter": "python",
   "pygments_lexer": "ipython2",
   "version": "2.7.12"
  }
 },
 "nbformat": 4,
 "nbformat_minor": 1
}

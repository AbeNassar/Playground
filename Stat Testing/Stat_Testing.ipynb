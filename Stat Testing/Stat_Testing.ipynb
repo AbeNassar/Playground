{
  "nbformat": 4,
  "nbformat_minor": 0,
  "metadata": {
    "colab": {
      "name": "Stat Testing.ipynb",
      "provenance": [],
      "collapsed_sections": [],
      "toc_visible": true
    },
    "language_info": {
      "codemirror_mode": {
        "name": "ipython",
        "version": 2
      },
      "file_extension": ".py",
      "mimetype": "text/x-python",
      "name": "python",
      "nbconvert_exporter": "python",
      "pygments_lexer": "ipython2",
      "version": "2.7.15"
    },
    "kernelspec": {
      "display_name": "Python 2",
      "language": "python",
      "name": "python2"
    }
  },
  "cells": [
    {
      "cell_type": "markdown",
      "metadata": {
        "id": "EyvdT9yKV_KA",
        "colab_type": "text"
      },
      "source": [
        "# Statistical Testing Workshop"
      ]
    },
    {
      "cell_type": "markdown",
      "metadata": {
        "id": "Zg2vZY1k7wyH",
        "colab_type": "text"
      },
      "source": [
        "## Summary\n",
        "- Comparing means works because of CLT.\n",
        "- When comparing means use the $t$-test unless:\n",
        "  - you know the variance\n",
        "  - you have a ton of data\n",
        "- The $z$-test and $t$-test have a few variations:\n",
        "  - **One or Two Sample Test**: One-sample when you compare the mean to a fixed value. Two-sample when you compare one mean to another mean. \n",
        "  - **One or Two Tail Tests** Use one tail if you want to show test is the means are less than or greater than a value. Use two tail tests if you only care whether or not the means differ. \n",
        "  - **Paired or Unpaired** Use a paired test if each participant gets both treatments. \n",
        "- Use power analysis to choose the sample size you need.\n"
      ]
    },
    {
      "cell_type": "markdown",
      "metadata": {
        "id": "55wMSReHV_KB",
        "colab_type": "text"
      },
      "source": [
        "## 1 Introduction\n",
        "This workshop assumes you know the basics of probability, but not very much.\n",
        " \n",
        "I will be using python for examples and I will use the following libraries:"
      ]
    },
    {
      "cell_type": "code",
      "metadata": {
        "id": "UviM8zoe6iBP",
        "colab_type": "code",
        "colab": {}
      },
      "source": [
        "import numpy as np\n",
        "import pandas as pd\n",
        "import scipy.stats as ss\n",
        "import matplotlib.pyplot as plt\n",
        "import statsmodels.api as sm"
      ],
      "execution_count": 0,
      "outputs": []
    },
    {
      "cell_type": "markdown",
      "metadata": {
        "id": "BnrQ3BD2V_KB",
        "colab_type": "text"
      },
      "source": [
        "### 1.1 Decide what to test\n",
        "\n",
        "While it's obvious that you need to decide on what to test, this part always seems to be one of the most difficult parts. Typically we are approached with a vague idea of what Juvo would like to demonstrate to some stakeholders. For example, we might want to change the fee structure of airtime loans. We get a carrier to agree to test which fees are best, but what do we test? What does best mean? We need to clearly define a metric that all parties can agree represents what we mean by \"best\". In this example, we might want to decrease fees because it increases retention. The carrier comes back uninterested in retention because they are unsure if the potential increase in retention would offset the profit lost by lowering fees. After some back and forth, we both agree that the best measure is average revenue per user (or ARPU) since we know the longer users stick around the more they will spend overall, and the carrier agrees because it is a strong indicator of profit. This is an important back and forth to have. At the end of the day, it is not up to the data scientist to choose this. While we may have a strong opinion on what the best metric is, it is a worthless metric if all stakeholders don't agree on the final meaning of it. \n",
        "\n"
      ]
    },
    {
      "cell_type": "markdown",
      "metadata": {
        "id": "RAMRKRQcV_KC",
        "colab_type": "text"
      },
      "source": [
        "### 1.2 Decide on the test\n",
        "There are plenty of statistical test to choose from. A quick and dirty reference for which test to use when can be found [here on the UCLA website](https://stats.idre.ucla.edu/other/mult-pkg/whatstat/). Note the disclaimer at the top which states\n",
        "> We emphasize that these are general guidelines and should not be construed as hard and fast rules.\n",
        "\n",
        "Some questions that need to be answered first are typically:\n",
        "\n",
        "  - Is the data continuous, ordinal, or discrete \n",
        "  - How is that data distributed?\n",
        "  - Does the variance change? There are often an assumption of homogeneity, i.e. assumptions that the variance within samples are the same.\n",
        "  - Do you have enough data? The more complicated the test, the more data you need. \n",
        "  - How many groups do you have?\n",
        "  - Do you have a control?\n",
        "  - How many variables do you have?\n",
        "  - How many levels do you have for each variable?\n",
        "  - Do you  expect interaction between variables?\n",
        "  \n",
        "All of these will help narrow down what test to use. Check all of the assumptions of the test and make sure they are statisfied before using it. \n"
      ]
    },
    {
      "cell_type": "markdown",
      "metadata": {
        "id": "iP_tXx_9V_KD",
        "colab_type": "text"
      },
      "source": [
        "### 1.3 Decide how to get the participants\n",
        "  It is important to make sure that we keep the data pure. The main assumption for these tests is that you choose the participants of the test that is sufficiently random. We need the samples to avoid accidentally picking up a signal that we didn't intend to.\n",
        "\n",
        "  This can sometimes be harder to do than it seems. For example, say we want to change fees. It might not be best to just randomly select existing users because we can have a user who has taken a loan before at the default rate, say R$2, but they get assigned to the treatment group that gives them a rate of R\\$2.5. This user might be annoyed that they suddenly got a price hike and drive them to change the way they would normally behave. We could filter out all users who have taken out loans. However, users who have never taken a loan might be the more financially stable and don't properly represent the whole population. It might be best to only take new users, but we would have to check if they carrier get enough new users to support that test. All in all, this can be a difficult part of the design to sort out with many moving parts so don't think this is a quick step.\n",
        "\n",
        "  Avoid filtering as much as possible. Always be mindful of how the sample generalizes to the whole population.\n"
      ]
    },
    {
      "cell_type": "markdown",
      "metadata": {
        "id": "_3RsJ_08xxPt",
        "colab_type": "text"
      },
      "source": [
        "### 1.4 Central Limit Theorem\n",
        "\n",
        "The [central limit theorem](https://en.wikipedia.org/wiki/Central_limit_theorem) is key to understanding where these tests come from so let's take a second to review it. \n",
        "\n",
        "***Central Limit Theorem***: Let $\\{X_1,\\cdots, X_n\\}$ be an independent and identically distributed random sample with $\\mathbb E(X_i) = \\mu$ and variance $Var(X_i) = \\sigma^2$ for any $i$. Also let \n",
        "$$\n",
        "  S_n = \\frac{X_1+\\cdots+X_n}{n}.\n",
        "$$\n",
        "Then the random variable $\\sqrt n(S_n - \\mu)$ converges in distribution to $\\mathcal N(0,\\sigma^2)$. or equivalently \n",
        "\n",
        "\n",
        "Notice no assumptions are being made about the distribution of $X_i$. It can be from any distribution, and as the sample size gets large, the distribution of the sample mean is approximately normal. To demonstrate this, I calculated the means with four different sample sizes (2, 10, 100 and  1000) and plotted this histogram. I also plot the PDF of the normal distribution described int he central limit theorem to see how well it approximates the data. \n",
        "\n",
        "\n"
      ]
    },
    {
      "cell_type": "code",
      "metadata": {
        "id": "7BIBHq84doFu",
        "colab_type": "code",
        "cellView": "form",
        "outputId": "e690cefb-3571-43d7-d1b3-8bcdc12dd022",
        "colab": {
          "base_uri": "https://localhost:8080/",
          "height": 734
        }
      },
      "source": [
        "#@title Sample mean histogram with exponentially distributed data\n",
        "plt.figure(1, figsize=[11,12])\n",
        "nbins = 40\n",
        "N = [2,10,100,1000]\n",
        "for i in range(len(N)):\n",
        "  plt.subplot(2,2, i+1)\n",
        "  # simulating means of samples from exponential distribution\n",
        "  n = N[i]\n",
        "  X_bar = []\n",
        "  mu, sigma = [1, 1] # The true mean and variance\n",
        "  for i in range(5000):\n",
        "    X_i = ss.expon().rvs(n)\n",
        "    X_i_bar = sum(X_i)*1.0/n\n",
        "    X_bar.extend([X_i_bar])\n",
        "\n",
        "  # the theoretical distribution of the means given by CLT\n",
        "  x = np.linspace(min(X_bar),max(X_bar),200)\n",
        "  y = ss.norm(mu,sigma/np.sqrt(n)).pdf(x)\n",
        "  plt.hist(X_bar, \n",
        "           density=True, \n",
        "           bins=nbins,\n",
        "           label=\"Sample Means\")\n",
        "  plt.plot(x, y, c=\"red\", label=\"Theoretical\\nbased on CLT\")\n",
        "  plt.title(\"$n=${}\".format(n))\n",
        "  plt.xlabel(r\"$\\bar X$\")\n",
        "  plt.legend()\n",
        "  \n",
        "# plt.suptitle(\"Sample mean histogram with exponentially distributed data\",fontsize=16)\n",
        "plt.show()"
      ],
      "execution_count": 0,
      "outputs": [
        {
          "output_type": "display_data",
          "data": {
            "image/png": "[encoded data removed]",
            "text/plain": [
              "<Figure size 792x864 with 4 Axes>"
            ]
          },
          "metadata": {
            "tags": []
          }
        }
      ]
    },
    {
      "cell_type": "markdown",
      "metadata": {
        "id": "yMg1cT2K8pqI",
        "colab_type": "text"
      },
      "source": [
        "Here is some more CLT action:\n",
        "<center>\n",
        "<img align=\"center\" src=\"https://media.giphy.com/media/VGtj8lltdM34oW1gEH/giphy.gif\" width=\"480\" />\n",
        "</center>"
      ]
    },
    {
      "cell_type": "markdown",
      "metadata": {
        "id": "LNHR9paqV_KD",
        "colab_type": "text"
      },
      "source": [
        "----\n",
        "## 2 Hypothesis Testing\n",
        "In this section we cover how to run a test in more mathematical detail.\n",
        "\n",
        "### 2.1 Hypothesis\n",
        "All experiments start with two Hypothesis, the null hypothesis and the alternative hypothesis. The ***null hypothesis*** is a statement that is the default truth. If there are no conclusive result from the test, we fall back to the null hypothesis as the working truth. We denote the null hypothesis as $H_0$. The ***alternative hypothesis*** is a counter statement to the null hypothesis. It is the statement that carries with it the burden of proof. We denote the alternative hypothesis is $H_a$, or some might denote it as $H_1.$ \n",
        "\n",
        "In A/B tests we are trying to show the difference between the two populations and we might do that by comparing the means of the agreed upon measurement. So for example, we might want to see if lowering the fees has an affect on ARPU (Average Revenue Per User). So we define group $A$ to be the group with no change in fees and define group $B$ be the group with the lower fee. You can image that would run this test and try to convince a telco to change their fee structure. If we don't have proof, they will just laugh in our face so the burden of proof lies with the statement that the ARPUs of group $A$ and $B$ are different. We denote the ARPUs of group $A$ and $B$ as $\\mu_A$ and $\\mu_B$, respectively. So the hypotheses we are testing are as follows:\n",
        "\n",
        "\\begin{align*}\n",
        " H_0&: \\mu_A = \\mu_B\\\\\n",
        " H_a&: \\mu_A \\neq \\mu_B\n",
        "\\end{align*}\n",
        "\n",
        "Each test has a similar structure. Assuming the null hypothesis is true, we calculate the test statistic of our sample. With that we can then find the probability of getting that statistic assuming the null hypothesis is true. We call that probability the $p$-value.\n",
        "\n",
        "Once we have the results of the test we have to make a decision on the hypotheses. We will have two options: We either reject the null hypothesis or we fail to reject the null hypothesis. Notice we never make a definitive conclusion about the alternative hypothesis. The truth is the way these frequentist test are constructed, all of the analysis is done assuming the null hypothesis is true so the most definitive statement we can make is only about the null hypothesis. \n",
        "\n"
      ]
    },
    {
      "cell_type": "markdown",
      "metadata": {
        "id": "aRa0nV-LV_KE",
        "colab_type": "text"
      },
      "source": [
        "### 2.2 Type I and Type II error\n",
        "In this type of test, there are two ways we can be wrong. Either we can reject $H_0$ while in reality $H_0$ was in fact true, or we can accept $H_0$ while in reality $H_0$ False. These errors are called ***type I*** and ***type II*** errores respectively.\n",
        "\n",
        "<center>\n",
        "<img src=\"https://peterattiamd.com/wp-content/uploads/2018/02/null-1.jpeg\" width=\"480\" align=\"center\"/>\n",
        "</center>\n",
        "\n",
        "To talk about this more precisely lets define $\\alpha= P(\\text{reject }H_0 | H_0 \\text{ is true})$ and $\\beta = P(\\text{accept }H_0 | H_0 \\text{ is false})$. Typically, we talk more about the complement of $\\beta$, i.e. $1-\\beta$, which we call the ***power*** The probabilities of each scenario are given in the table below. \n",
        " \n",
        "\n",
        "|   &#xfeff;  |$H_0$ is true|$H_0$ is false|\n",
        "|----:|:-----------:|:-----------:|\n",
        "|**accept $H_0$**| Correct<br> $1-\\alpha$| Type II<br>$\\beta$\n",
        "|**reject $H_0$**|Type I <br> $\\alpha$| Correct<br>$1-\\beta$\n"
      ]
    },
    {
      "cell_type": "markdown",
      "metadata": {
        "id": "5Lz1ObZIV_KF",
        "colab_type": "text"
      },
      "source": [
        "### 2.3 Power\n",
        "The term $1-\\beta$ or the probability of correctly rejecting the null hypothesis is so important that we give it a name. It is called the ***power*** of the test. In hypothesis testing, on top of allowing us to understand how we can be wrong it also helps us determine the sample size we need. We will revisit this after we define some test. "
      ]
    },
    {
      "cell_type": "markdown",
      "metadata": {
        "id": "9tIhsefaV_KF",
        "colab_type": "text"
      },
      "source": [
        "----\n",
        "## 3 Basic Tests"
      ]
    },
    {
      "cell_type": "markdown",
      "metadata": {
        "id": "GjgQ_rdtV_KG",
        "colab_type": "text"
      },
      "source": [
        "### One Sample $z$-Test \n",
        "This is not a very useful example in practice but it sets the foundation for some of the tests we will discuss later. For this test we assume we have collected data $\\{y_1, y_2, \\cdots , y_n \\}$ that we know comes from a normally distributed random variable $Y\\sim\\mathcal N (\\mu,\\sigma^2)$, where we know $\\sigma^2$, but we don't know $\\mu$.\n",
        "\n",
        "The assumptions are:\n",
        "  1. Each $y_i$ comes from a normal random variable $Y\\sim\\mathcal N (\\mu,\\sigma^2)$. \n",
        "  2. We know the variance $\\sigma^2$\n",
        "  3. We don't know the mean $\\mu$\n",
        "\n",
        "The hypothesis for the following are:\n",
        "\\begin{align*}\n",
        "H_0: \\mu=\\mu_0\\\\\n",
        "H_a: \\mu\\neq \\mu_0\\\\\n",
        "\\end{align*}\n",
        "\n",
        "The test statistic is \n",
        "$$z = \\frac{\\mu_o - \\bar y}{\\sigma/\\sqrt{n}}\\sim \\mathcal N (0,1)$$\n",
        "Where $\\bar y = \\frac{1}{n}\\sum_{i=1}^{n}y_i$. If we assume the null hypothesis we know that our sample should be close to the mean of the null hypothesis $\\mu_0$. If it is drastically far from the null hypothesis mean, then that is evidence that the null hypothesis is wrong and thus evidence that the alternative might be correct. So we have to choose a significance level $\\alpha$ that defines how far from $\\mu_0$ to justify rejecting $H_0$. Often, in the literature, we choose $\\alpha = 0.05$. So we are checking the sample mean and we are calculating the probability of getting a sample mean that extreme. If the probability is less than 5% we reject the null hypothesis. We call that probability that we calculate the $p$-value.\n",
        "\n",
        "### Example: $z$-test\n",
        "Assume we are given a data set and we are told that the variance is 1. And we want to know if the data has a mean other than zero. So our hypothesis are:\n",
        "\n",
        "\\begin{align*}\n",
        "H_0: \\mu =  0 \\\\\n",
        "H_a: \\mu \\neq 0 \\\\\n",
        "\\end{align*}\n",
        "\n",
        "Below is the data given and a histogram of the data (in blue) compared to the null hypothesis PDF (in orange).\n",
        "\n"
      ]
    },
    {
      "cell_type": "code",
      "metadata": {
        "id": "TYv00xDeEjAu",
        "colab_type": "code",
        "colab": {}
      },
      "source": [
        "sigma = 1.0 # This is told to us. \n",
        "\n",
        "# The data is given to us. \n",
        "data = np.array([ 0.97371708,  2.13760344,  1.49854198, -0.20740687, -0.5422073 ,\n",
        "                  0.49418656, -0.99368848, -1.07993323, -0.11793051,  0.25949674,\n",
        "                 -0.22658541,  0.42806121,  1.0422869 , -0.63654469,  1.5448586 ,\n",
        "                  1.03634436,  0.17327545,  0.88830785,  1.42613701,  0.70109459,\n",
        "                  1.92066165,  0.59662308, -0.20690922,  0.37928897, -0.72141141,\n",
        "                 -0.66878324, -1.81805308,  0.29813668, -0.09224128,  2.49288298\n",
        "                ])"
      ],
      "execution_count": 0,
      "outputs": []
    },
    {
      "cell_type": "code",
      "metadata": {
        "id": "Z-jT1CtV9esC",
        "colab_type": "code",
        "cellView": "form",
        "outputId": "4cbc141f-c348-4187-e8b5-02a2b132505a",
        "colab": {
          "base_uri": "https://localhost:8080/",
          "height": 323
        }
      },
      "source": [
        "#@title Histogram of the Data\n",
        "plt.figure(1, figsize=[5,5])\n",
        "plt.hist(data, \n",
        "         bins=8, \n",
        "         density=True,\n",
        "         label=\"Observed Data\")\n",
        "plt.show()\n",
        "plt.close(1)"
      ],
      "execution_count": 0,
      "outputs": [
        {
          "output_type": "display_data",
          "data": {
            "image/png": "[encoded data removed]",
            "text/plain": [
              "<Figure size 360x360 with 1 Axes>"
            ]
          },
          "metadata": {
            "tags": []
          }
        }
      ]
    },
    {
      "cell_type": "markdown",
      "metadata": {
        "id": "cCSUjosan2lR",
        "colab_type": "text"
      },
      "source": [
        "Let's now perform the test. We need to calculate the $z$ statistic. Then assuming $Z\\sim\\mathcal N(0,1)$, we need to calculate the probability of getting a $z$ statistic that extreme. This means we want to calculate the probability of getting a $z$ value that extreme. We do so by calculating the area under the PDF from $(-\\infty, -|z|]$ and the area under $[|z|,\\infty)$. Because of the symmetry of the normal distribution, we can calculate this as \n",
        "$$p = 2\\cdot F_Z (-|z|)$$\n",
        "Where $ F_Z $ is the CDF of the standard normal distribution, $z$. "
      ]
    },
    {
      "cell_type": "code",
      "metadata": {
        "id": "_a0pcG99mB35",
        "colab_type": "code",
        "outputId": "005a9d68-bfee-480f-91bc-b63e9ce7a129",
        "cellView": "code",
        "colab": {
          "base_uri": "https://localhost:8080/",
          "height": 68
        }
      },
      "source": [
        "# define the z-distribution for convenience \n",
        "z_dist = ss.norm(0,1)\n",
        "\n",
        "N = data.shape[0]\n",
        "\n",
        "mu0 = 0.0 # null hypothesis\n",
        "s = sigma/np.sqrt(N) # standard error\n",
        "z = (data.mean()-mu0)/s\n",
        "\n",
        "p_value = 2*z_dist.cdf(-abs(z))\n",
        "\n",
        "# Dispaly results\n",
        "print \"Two-sided One-sample z-Test Results\"\n",
        "print \"z Statistic:\\t{x}\".format(x=z)\n",
        "print \"P-Value:\\t{}\".format(p_value)"
      ],
      "execution_count": 0,
      "outputs": [
        {
          "output_type": "stream",
          "text": [
            "Two-sided One-sample z-Test Results\n",
            "z Statistic:\t2.00462994623\n",
            "P-Value:\t0.0450026227424\n"
          ],
          "name": "stdout"
        }
      ]
    },
    {
      "cell_type": "code",
      "metadata": {
        "id": "vV2YuTzc8x6_",
        "colab_type": "code",
        "cellView": "form",
        "outputId": "19fd19b6-b7a0-4b54-f666-adc9417a7e04",
        "colab": {
          "base_uri": "https://localhost:8080/",
          "height": 350
        }
      },
      "source": [
        "#@title Plot of p-values\n",
        "\n",
        "x_min = -3\n",
        "x_max = 5\n",
        "\n",
        "# Plot the null hypothesis pdf and the p-values\n",
        "x = np.linspace(x_min,x_max,100)\n",
        "y = z_dist.pdf(x)\n",
        "z_ub = np.linspace(abs(z),x_max,20)\n",
        "z_lb = np.linspace(x_min,-abs(z),20)\n",
        "\n",
        "# plotting\n",
        "plt.figure(1, figsize=[5.5,5])\n",
        "plt.fill_between(x=z_ub, \n",
        "                 y1=0, \n",
        "                 y2=z_dist.pdf(z_ub), \n",
        "                 alpha=0.3,\n",
        "                 color=\"red\")\n",
        "plt.fill_between(x=z_lb, \n",
        "                 y1=0,\n",
        "                 y2=z_dist.pdf(z_lb), \n",
        "                 alpha=0.3,\n",
        "                 color=\"red\", \n",
        "                 label=\"p-value={:.03f}\".format(p_value))\n",
        "plt.plot(x, y, label=\"Null Hypothesis\")\n",
        "plt.xlabel(\"z\")\n",
        "plt.ylabel(\"Probability Denisty\")\n",
        "plt.title(\"p-Value shown graphically\")\n",
        "plt.legend()\n",
        "plt.xlim([x_min, x_max])\n",
        "plt.show()\n",
        "plt.close(1)"
      ],
      "execution_count": 0,
      "outputs": [
        {
          "output_type": "display_data",
          "data": {
            "image/png": "[encoded data removed]",
            "text/plain": [
              "<Figure size 396x360 with 1 Axes>"
            ]
          },
          "metadata": {
            "tags": []
          }
        }
      ]
    },
    {
      "cell_type": "markdown",
      "metadata": {
        "id": "Qo6RaL-WV_KH",
        "colab_type": "text"
      },
      "source": [
        "#### Two-sided vs. one-sided\n",
        "\n",
        "What we just went though was specifically called a \"two-sided\" test. It is called two-sided because we calculate the probability from both sides of the distribution. For a two-sided test, we are testing whether or not the two means are the same or different. We don't care if one is larger or smaller than the other. So we state the alternative hypothesis simply as $\\mu\\neq\\mu_0$.\n",
        "\n",
        "It is also possible to have a one-sided test if we do care about direction. if we do care about the A one-sided test specifically seeks to test if one value is larger than the other. If we want to test if group A has a larger mean than group B, then we state the hypothesis as\n",
        "\\begin{align*}\n",
        "  H_0 &: \\mu = \\mu_0  \\\\\n",
        "  H_1 &: \\mu < \\mu_0  &&\\text{or}&  H_2 &: \\mu > \\mu_0\\\\\n",
        "\\end{align*}\n",
        "If we go back to two-sided example. Lets say that it is only important if the mean falls below zero. In that case we would want to test \n",
        "\\begin{align*}\n",
        "  H_0 &: \\mu = 0  \\\\\n",
        "  H_1 &: \\mu < 0\\\\\n",
        "\\end{align*}\n",
        "In this case, since we only care if the mean is negative, we only calculate the probability on the negative side of the distribution.\n",
        "$$p= F_Z(z)$$\n",
        "\n",
        "Likewise, if we only care if the mean is positive we use the alternative hypothesis of  $H_2 : \\mu > 0$ and we calculate the $p$-value as \n",
        "$$p= 1 - F_Z (z)$$\n",
        "Both cases are plotted below.\n",
        "\n"
      ]
    },
    {
      "cell_type": "code",
      "metadata": {
        "id": "dy82VlBqvi6-",
        "colab_type": "code",
        "colab": {}
      },
      "source": [
        "lessthan_p_value = z_dist.cdf(z)\n",
        "greaterthan_p_value = 1-z_dist.cdf(z)"
      ],
      "execution_count": 0,
      "outputs": []
    },
    {
      "cell_type": "code",
      "metadata": {
        "id": "oagO42pm-bZ-",
        "colab_type": "code",
        "cellView": "form",
        "outputId": "d3e949dd-e041-4364-b7cd-33e1b10edef2",
        "colab": {
          "base_uri": "https://localhost:8080/",
          "height": 369
        }
      },
      "source": [
        "#@title p-Value of One-Sides Tests\n",
        "x_min = -3\n",
        "x_max = 5\n",
        "\n",
        "z_lb = np.linspace(x_min,z,200)\n",
        "z_ub = np.linspace(z,x_max,200)\n",
        "x = np.linspace(x_min,x_max,100)\n",
        "y = z_dist.pdf(x)\n",
        "\n",
        "# plotting H_1\n",
        "plt.figure(1, figsize=[12,5])\n",
        "plt.subplot(1,2,1)\n",
        "plt.fill_between(x=z_lb, \n",
        "                 y1=0, \n",
        "                 y2=z_dist.pdf(z_lb), \n",
        "                 color=\"red\",\n",
        "                 alpha=0.3,\n",
        "                 label=\"p-value={:.03f}\".format(lessthan_p_value))\n",
        "\n",
        "plt.plot(x, y, label=\"Null Hypothesis\")\n",
        "plt.axhline(0, lw=1, c =\"k\")\n",
        "plt.xlabel(\"z\")\n",
        "plt.ylabel(\"Probability Denisty\")\n",
        "plt.title(\"$H_0:\\mu=0$\\n$H_1: \\mu < 0$\")\n",
        "plt.ylim([0,y.max()*1.1])\n",
        "plt.legend()\n",
        "plt.xlim([x_min, x_max])\n",
        "\n",
        "# plotting H_2\n",
        "plt.figure(1, figsize=[11,5])\n",
        "plt.subplot(1,2,2)\n",
        "plt.fill_between(x=z_ub,\n",
        "                 y1=0, \n",
        "                 y2=z_dist.pdf(z_ub), \n",
        "                 color=\"red\",\n",
        "                 alpha=0.3, \n",
        "                 label=\"p-value={:.03f}\".format(greaterthan_p_value))\n",
        "plt.axhline(0, lw=1, c =\"k\")\n",
        "plt.plot(x, y, label=\"Null Hypothesis\")\n",
        "plt.xlabel(\"z\")\n",
        "plt.ylabel(\"Probability Denisty\")\n",
        "plt.title(\"$H_0:\\mu=0$\\n$H_2: \\mu > 0$\")\n",
        "plt.legend()\n",
        "plt.xlim([x_min, x_max])\n",
        "plt.ylim([0,y.max()*1.1])\n",
        "plt.show()\n",
        "plt.close(1)"
      ],
      "execution_count": 0,
      "outputs": [
        {
          "output_type": "display_data",
          "data": {
            "image/png": "[encoded data removed]",
            "text/plain": [
              "<Figure size 864x360 with 2 Axes>"
            ]
          },
          "metadata": {
            "tags": []
          }
        }
      ]
    },
    {
      "cell_type": "markdown",
      "metadata": {
        "id": "7MSbibK5wLkm",
        "colab_type": "text"
      },
      "source": [
        "In the case of $H_1:\\mu<0$ there the $p$-value is too high to reject the null hypothesis. So there is little evidence that the mean is actually negative. While in the case of $H_2:\\mu>0$  the $p$-value is small enough to reject the null hypothesis so there is evidence that the mean is positive. "
      ]
    },
    {
      "cell_type": "markdown",
      "metadata": {
        "id": "bdomKbFyGSpv",
        "colab_type": "text"
      },
      "source": [
        "### Libraries for the $z$-test\n",
        "Of course this is a common calculation to do, so we don't need to do all of the calculations from scratch. We can do the same calculation foe the two-sided $z$-test above with the following code:"
      ]
    },
    {
      "cell_type": "code",
      "metadata": {
        "id": "pgtgABrNGjl5",
        "colab_type": "code",
        "outputId": "20317739-159c-4246-a994-73ea60c61565",
        "colab": {
          "base_uri": "https://localhost:8080/",
          "height": 68
        }
      },
      "source": [
        "z_results = sm.stats.ztest(data, \n",
        "                           value=0, \n",
        "                           alternative=\"two-sided\")\n",
        "\n",
        "print \"\"\"H_a:  mu != 0\n",
        "Test statistic, z:\\t{}\n",
        "p-value:\\t\\t{}\"\"\".format(z_results[0],z_results[1])"
      ],
      "execution_count": 0,
      "outputs": [
        {
          "output_type": "stream",
          "text": [
            "H_a:  mu != 0\n",
            "Test statistic, z:\t1.97395211523\n",
            "p-value:\t\t0.0483871880407\n"
          ],
          "name": "stdout"
        }
      ]
    },
    {
      "cell_type": "markdown",
      "metadata": {
        "id": "f1kfZHw3Jx0G",
        "colab_type": "text"
      },
      "source": [
        "The numbers are slightly off becuase it is approximating the variance from the data instead of using the known variance that we fixed at 1. But the test is close enough to correct. \n",
        "Moreover, we can also do the one sided test for $H_1: \\mu <0$ as follows:"
      ]
    },
    {
      "cell_type": "code",
      "metadata": {
        "id": "Y9Ik2YleKIed",
        "colab_type": "code",
        "outputId": "0a915521-557c-4f35-94ee-d6ad339cb7ce",
        "colab": {
          "base_uri": "https://localhost:8080/",
          "height": 68
        }
      },
      "source": [
        "z_results = sm.stats.ztest(data, \n",
        "                           value=0, \n",
        "                           alternative=\"smaller\")\n",
        "\n",
        "print \"\"\"H_a: mu < 0\n",
        "Test statistic, z:\\t{}\n",
        "p-value:\\t\\t{}\"\"\".format(z_results[0],z_results[1])"
      ],
      "execution_count": 0,
      "outputs": [
        {
          "output_type": "stream",
          "text": [
            "H_a: mu < 0\n",
            "Test statistic, z:\t1.97395211523\n",
            "p-value:\t\t0.97580640598\n"
          ],
          "name": "stdout"
        }
      ]
    },
    {
      "cell_type": "markdown",
      "metadata": {
        "id": "UKelgXx3KizW",
        "colab_type": "text"
      },
      "source": [
        "and using the alternative $H_2: \\mu>0$ is done as follows:"
      ]
    },
    {
      "cell_type": "code",
      "metadata": {
        "id": "DQiz37kJKEX6",
        "colab_type": "code",
        "outputId": "082f03b3-ae5e-4840-8532-640135e8544b",
        "colab": {
          "base_uri": "https://localhost:8080/",
          "height": 68
        }
      },
      "source": [
        "z_results = sm.stats.ztest(data, \n",
        "                           value=0, \n",
        "                           alternative=\"larger\")\n",
        "\n",
        "print \"\"\"H_a: mu > 0\n",
        "Test statistic, z:\\t{}\n",
        "p-value:\\t\\t{}\"\"\".format(z_results[0],z_results[1])"
      ],
      "execution_count": 0,
      "outputs": [
        {
          "output_type": "stream",
          "text": [
            "H_a: mu > 0\n",
            "Test statistic, z:\t1.97395211523\n",
            "p-value:\t\t0.0241935940203\n"
          ],
          "name": "stdout"
        }
      ]
    },
    {
      "cell_type": "markdown",
      "metadata": {
        "id": "4kt963ibqqhZ",
        "colab_type": "text"
      },
      "source": [
        "#### Power of the Test\n",
        "Recall that power is the probability of correctly rejecting the null hypothesis. In other words, we want \n",
        "$P(\\text{reject }H_0|H_a) = 1-\\beta$.\n",
        "Since $H_a: \\mu\\neq \\mu_0$ is vague, we need to get a better idea of what the true mean $\\mu$ actually is. So let $\\delta$ be the amount that we are wrong about $\\mu$ In other words $\\mu= \\mu_0 + \\delta$.\n",
        "\\begin{align*}\n",
        "1- \\beta &= P(\\text{reject }H_0|H_a \\text{ is true})\\\\\n",
        "              &= P(Z  > \\mu_0 + \\sigma_n z_{1-\\alpha}|H_a)\\\\\n",
        "              &=  1 - P(Z < \\mu_0 + \\sigma_n z_{1-\\alpha}|H_a)\\\\\n",
        "              &=  1 - P\\left(\\frac{Z-\\mu}{\\sigma_n} < \\frac{\\mu_0-\\mu+ \\sigma_n z_{1-\\alpha}}{\\sigma_n} \\Big|H_a\\right)\\\\\n",
        "              &=  1  - F_Z \\left( \\frac{\\mu_0-\\mu}{\\sigma_n} + z_{1-\\alpha} \\right)\\\\\n",
        "              &=  F_Z \\left( \\frac{\\mu-\\mu_0}{\\sigma_n} - z_{1-\\alpha} \\right) \\hspace{1cm}\\text{because of symmetry }\\\\\n",
        "\\end{align*}\n",
        "Recall that in this case $\\sigma_n =\\sigma/\\sqrt n$. We can plug this in and solve for $n$\n",
        "\\begin{align*}\n",
        "1- \\beta &=  F_Z \\left( \\frac{\\mu-\\mu_0}{\\sigma/\\sqrt n} - z_{1-\\alpha} \\right)\\\\\n",
        "z_{1- \\beta} &=   \\frac{\\mu-\\mu_0}{\\sigma/\\sqrt n} - z_{1-\\alpha}\\\\\n",
        "z_{1- \\beta} +  z_{1-\\alpha} &= \\frac{\\mu-\\mu_0}{\\sigma/\\sqrt n}\\\\\n",
        "\\frac{\\sigma(z_{1- \\beta} +  z_{1-\\alpha})}{\\mu-\\mu_0} &= \\sqrt n\\\\\n",
        "\\left[\\frac{\\sigma(z_{1- \\beta} +  z_{1-\\alpha})}{\\mu-\\mu_0}\\right]^2 &=  n\\\\\n",
        "\\end{align*}\n",
        "\n",
        "But again, most stats libraries will have functions to do this calculation for you.  You can use `zt_ind_solve_power` in the statsmodels library. Here the argument `effect_size` is the standardized difference in the means. i.e. it's the value of $(\\mu-\\mu_0)/\\sigma$. "
      ]
    },
    {
      "cell_type": "code",
      "metadata": {
        "id": "m_s3swc6I3jV",
        "colab_type": "code",
        "outputId": "7110a8af-fbf3-4109-a572-a6f2a600267b",
        "colab": {
          "base_uri": "https://localhost:8080/",
          "height": 34
        }
      },
      "source": [
        "sm.stats.zt_ind_solve_power(effect_size=0.1, \n",
        "                            nobs1=None, \n",
        "                            alpha=0.05, \n",
        "                            power=0.8, \n",
        "                            alternative='two-sided')"
      ],
      "execution_count": 0,
      "outputs": [
        {
          "output_type": "execute_result",
          "data": {
            "text/plain": [
              "1569.7721019023288"
            ]
          },
          "metadata": {
            "tags": []
          },
          "execution_count": 12
        }
      ]
    },
    {
      "cell_type": "code",
      "metadata": {
        "id": "I-_kJlkkJh4_",
        "colab_type": "code",
        "outputId": "b88984b7-acb3-44bd-a2e7-f9f695c402c6",
        "colab": {
          "base_uri": "https://localhost:8080/",
          "height": 34
        }
      },
      "source": [
        "mu_a = data.mean()\n",
        "print mu_a"
      ],
      "execution_count": 0,
      "outputs": [
        {
          "output_type": "stream",
          "text": [
            "0.3659936803333334\n"
          ],
          "name": "stdout"
        }
      ]
    },
    {
      "cell_type": "code",
      "metadata": {
        "id": "IEKhSPX6qhQA",
        "colab_type": "code",
        "outputId": "5b777daa-4202-4933-a99d-9d483063e5b1",
        "cellView": "form",
        "colab": {
          "base_uri": "https://localhost:8080/",
          "height": 408
        }
      },
      "source": [
        "#@title Plot of Type I and Type II Errors\n",
        "delta = 3\n",
        "mu_0 = 0 \n",
        "mu_a = mu_0 + delta\n",
        "\n",
        "null_dist = ss.norm(mu_0,1)\n",
        "alt_dist = ss.norm(mu_a, sigma)\n",
        "\n",
        "x_min = -5\n",
        "x_max = 5\n",
        "alpha = 0.05\n",
        "x = np.linspace(x_min,x_max,100)\n",
        "y = null_dist.pdf(x)\n",
        "y_a = alt_dist.pdf(x)\n",
        "\n",
        "type_I_error_region = np.linspace(null_dist.ppf(1-alpha/2), x_max, 50)\n",
        "type_II_error_region = np.linspace(x_min, null_dist.ppf(1-alpha/2), 50)\n",
        "\n",
        "plt.figure(1, figsize=[8,6])\n",
        "\n",
        "plt.plot(x, y, color=\"blue\") # Plot Null PDF\n",
        "plt.plot(x,y_a, color=\"red\") # Plot Alternative PDF\n",
        "\n",
        "# Plot null hypothesis mean\n",
        "plt.axvline(x = null_dist.mean(), \n",
        "            ymax = null_dist.pdf(null_dist.mean())/0.4,\n",
        "            ls=\":\", \n",
        "            lw = 1,\n",
        "            color=\"k\")\n",
        "\n",
        "# Plot null hypothesis mean\n",
        "plt.axvline(x = alt_dist.mean(), \n",
        "            ymax = alt_dist.pdf(alt_dist.mean())/0.4,\n",
        "            ls=\":\", \n",
        "            lw = 1,\n",
        "            color=\"k\")\n",
        "\n",
        "# Plot rejection boundary\n",
        "plt.axvline(x = null_dist.ppf(1-alpha/2), \n",
        "            ymax = null_dist.pdf(1-alpha/2)/0.45,\n",
        "            ls=\":\", \n",
        "            lw = 1,\n",
        "            color=\"k\")\n",
        "\n",
        "\n",
        "# Plot Type I probability\n",
        "plt.fill_between(x = type_I_error_region, \n",
        "                 y1 = 0, \n",
        "                 y2 = null_dist.pdf(type_I_error_region),\n",
        "                 color = 'blue',\n",
        "                 alpha = 0.3,\n",
        "                 label = r\"\"\"$P({\\rm reject\\; }H_0\\;|\\;H_0)$\"\"\" + \"\\nor P(Type I Error)\")\n",
        "\n",
        "# Plot Type I probability\n",
        "plt.fill_between(x = type_II_error_region, \n",
        "                 y1 = 0, \n",
        "                 y2 = alt_dist.pdf(type_II_error_region),\n",
        "                 color = 'red',\n",
        "                 alpha = 0.3,\n",
        "                 label = r\"\"\"$P({\\rm accept\\; }H_0\\;|\\;H_a)$\"\"\" + \"\\nor P(Type II Error)\")\n",
        "\n",
        "plt.legend(bbox_to_anchor=(0, 1), loc='upper left', ncol=1,prop={'size': 12})\n",
        "plt.xticks([0, null_dist.ppf(1-alpha/2), mu_0 + delta], \n",
        "           [r\"$\\mu=\\mu_0$\", r\"$z_{1-{\\alpha}}$\",r\"$\\mu=\\mu_a$\"],\n",
        "           fontsize=14,\n",
        "           rotation=-45)\n",
        "plt.yticks([])\n",
        "plt.ylim(0,.42)\n",
        "plt.xlim([x_min,x_max])\n",
        "plt.show()"
      ],
      "execution_count": 0,
      "outputs": [
        {
          "output_type": "display_data",
          "data": {
            "image/png": "[encoded data removed]",
            "text/plain": [
              "<Figure size 576x432 with 1 Axes>"
            ]
          },
          "metadata": {
            "tags": []
          }
        }
      ]
    },
    {
      "cell_type": "markdown",
      "metadata": {
        "id": "jVY3i5R7erbd",
        "colab_type": "text"
      },
      "source": [
        "### Two-Sample $z$-test\n",
        "Most often for A/B test we don't want to compare something to a  known value. We want to compare two different samples. e.g. we want to compare one group ($A$) who saw the blue button vs the other group ($B$) who saw the red button. This is a simple change: instead of testing a mean $\\mu$ against some fixed value $\\mu_0$, we compare the difference of means $\\mu_A-\\mu_B$ against a fixed value, namely $\\mu_0=0$. The assumptions are also similar:\n",
        "\n",
        "\n",
        "The assumptions are:\n",
        "  1. a. Each data point from group $A$, $y_{Ai}$ comes from a normal random variable $Y_A\\sim\\mathcal N (\\mu_A,\\sigma^2)$\n",
        "  \n",
        "     b. Each data point from group $A$, $y_{Bi}$, comes from a normal random variable $Y_B\\sim\\mathcal N (\\mu_B,\\sigma^2)$\n",
        "  2. a. We know the variance, $\\sigma_A^2$, of population $A$\n",
        "  \n",
        "  b. We know the variance, $\\sigma_B^2$, of population $B$.\n",
        "  \n",
        "  3.  a. We don't know the mean $\\mu_A$ of group $A$.\n",
        "  \n",
        "  b. We don't know the mean $\\mu_B$ of group $B$.\n",
        "\n",
        "So the two-sided hypothesis for comparing means from sample $A$ and sample $B$ we have:\n",
        "\\begin{align*}\n",
        "  H_0 &: \\mu_A-\\mu_B = 0        &\\text{or$\\hspace{1cm}$}&&  H_0 &: \\mu_A = \\mu_B \\\\\n",
        "  H_1 &: \\mu_A-\\mu_B \\neq 0  &\\text{ equivalently }&&  H_1 &: \\mu_A \\neq \\mu_B\\\\\n",
        "\\end{align*}\n",
        "\n",
        "The test statistic is then \n",
        "$$z = \\frac{\\bar y_A - \\bar y_B}\n",
        "          {\\sqrt{\\frac{\\sigma_A^2}{n_A} + \\frac{\\sigma_B^2}{n_B}}}$$\n",
        "Where $\\bar X_A$ and $\\bar X_B$ are the sample means for group $A$ and $B$, where $n_A$ and $n_B$ are the sample sizes of groups $A$ and $B$.\n",
        "\n",
        "From here, we follow the same steps to get the $p$-value:\n",
        "$$p = 2\\cdot  F_Z (-|z|)$$\n",
        "\n",
        "Analogously, (and without loss of generality) we can do a one-sided test where we can change the alternative hypothesis to $H_1: \\mu_A-\\mu_B > 0$, which is equivalent to $H_1: \\mu_A>\\mu_B$. And we get the $p$-value the same way with the one-sample test:\n",
        "$$p= 1 -  F_Z (z)$$\n"
      ]
    },
    {
      "cell_type": "markdown",
      "metadata": {
        "id": "Tn7NLyxiV_KG",
        "colab_type": "text"
      },
      "source": [
        "### The $t$-test\n",
        "\n",
        "#### The $t$-distribution\n",
        "The $t$-test can be thought of as a generalization of the $z$ test. We remove the assumption that the variance $\\sigma^2$ is known. Instead we assume that the variance is distributed according to Pearson's Chi-squared i.e. $\\sigma^2\\sim\\chi^2_\\nu$. When you do that you end up with a $t$-distribution. So in fact \n",
        "$$\\frac{\\mathcal N(0,1)}{\\chi^2_\\nu}=t_\\nu$$\n",
        "If you want to see all of the details as to why this is, there is a [paper](https://shoichimidorikawa.github.io/Lec/ProbDistr/t-e.pdf) and a [moving picture ](https://www.youtube.com/watch?v=jFOyzEJctUU) that goes though it all. \n",
        "\n",
        "The main take-aways from this is that since we don't know the variance we don't know how much to sway away from the mean. This translates to having fatter tails on the $t$-distribution. Moreover, as we gather data, we can be more and more sure of the true variance so the $t$-distribution converges to the $z$-distribution. In the animation below we can see what happens as we increase the size of the data set $N$.\n",
        "<center>\n",
        "<img align=\"center\" src=\"https://media.giphy.com/media/U5VhygwSG6jK6MNRW9/giphy.gif\" width=\"480\" />\n",
        "</center>\n",
        "\n",
        "\n",
        "Notice how quickly the $t$-distribution (in blue) converges to the $z$-distribution in orange. With as few as 30 data points, they are almost indistinguishable. In data science we are often dealing with data sets much larger than 30 so the difference between the $z$ and $t$ tests have been muddled in the data science world without much of a consequence. \n",
        "\n",
        "#### The One Sample Test\n",
        "For the $t$-test we start off almost exactly as the $z$ test. We use the same hypothesis. In the one-sample test, we use:\n",
        "\\begin{align*}\n",
        "\\text{For two-sided}   &&      && \\text{For one-sided (left)}      &&&& \\text{For one-sided (right)}\\\\\n",
        "H_0: \\mu=\\mu_0       && or &&H_0: \\mu=\\mu_0  && or &&H_0: \\mu=\\mu_0\\\\\n",
        "H_a: \\mu\\neq \\mu_0 &&     &&H_a: \\mu< \\mu_0  &&     &&H_a: \\mu> \\mu_0\\\\\n",
        "\\end{align*}\n",
        "\n",
        "The test statistic is almost the same except now we don't know the true standard deviation, so we approximate it with the sample standard deviation, $s$. \n",
        "\n",
        "$$\n",
        "  t = \\frac{\\mu_o - \\bar y}{s/\\sqrt{n}}\\sim t_{n-1}, \\hspace{1cm}\\text{where } \n",
        "  s = \\sqrt{\\frac{\\sum_{i=1}^{n}(y_i - \\bar y)^2}{n-1}}\n",
        "$$\n",
        "\n",
        "Now instead of using the standard normal CDF $F_Z$, we will user the $t_{n-1}$ CDF which we donote $F_{t_{n-1}}$.\n",
        "\n",
        "\\begin{align*}\n",
        "\\text{For two-sided}   &&      && \\text{For one-sided (right)}      &&&& \\text{For one-sided (left)}\\\\\n",
        "p = 2\\cdot F_{t_{n-1}}(-|t|)      && or && p= F_{t_{n-1}}(t)&& or &&p=1-F_{t_{n-1}}(t)\n",
        "\\end{align*}\n",
        "\n",
        "\n"
      ]
    },
    {
      "cell_type": "markdown",
      "metadata": {
        "id": "tIeHq6QPW6fL",
        "colab_type": "text"
      },
      "source": [
        "### Two sample $t$-test\n",
        "With the one-sample $t$-test defined and the two-sample $z$ test defined, you can probably guess what the test statistic for a two sided $t$ test is:\n"
      ]
    },
    {
      "cell_type": "markdown",
      "metadata": {
        "id": "2uxKOQlmXqKI",
        "colab_type": "text"
      },
      "source": [
        ""
      ]
    },
    {
      "cell_type": "code",
      "metadata": {
        "id": "dnJQBReD7C8F",
        "colab_type": "code",
        "outputId": "32ef7671-5dfd-4f6e-c6f1-da56cb7b9fce",
        "colab": {
          "base_uri": "https://localhost:8080/",
          "height": 34
        }
      },
      "source": [
        "sao_paulo_data = arpu_df[arpu_df.index==11]\n",
        "rio_de_janeiro_data = arpu_df[arpu_df.index==21]\n",
        "\n",
        "sm.stats.ttest_ind(sao_paulo_data,  \n",
        "                   rio_de_janeiro_data, \n",
        "                   alternative='two-sided',\n",
        "                   usevar='unequal')"
      ],
      "execution_count": 0,
      "outputs": [
        {
          "output_type": "execute_result",
          "data": {
            "text/plain": [
              "(array([11.12125036]), array([2.64665174e-28]), array([3864.81753001]))"
            ]
          },
          "metadata": {
            "tags": []
          },
          "execution_count": 16
        }
      ]
    },
    {
      "cell_type": "code",
      "metadata": {
        "id": "8Kq_hpqT_XTG",
        "colab_type": "code",
        "outputId": "9fd8047a-d02a-48c9-8dd0-f7fc9d556310",
        "colab": {
          "base_uri": "https://localhost:8080/",
          "height": 34
        }
      },
      "source": [
        "sm.stats.ztest(sao_paulo_data,  \n",
        "                   rio_de_janeiro_data, \n",
        "                   alternative='two-sided')"
      ],
      "execution_count": 0,
      "outputs": [
        {
          "output_type": "execute_result",
          "data": {
            "text/plain": [
              "(array([11.12125036]), array([9.88764399e-29]))"
            ]
          },
          "metadata": {
            "tags": []
          },
          "execution_count": 17
        }
      ]
    },
    {
      "cell_type": "markdown",
      "metadata": {
        "id": "eE0qXNtbV_KI",
        "colab_type": "text"
      },
      "source": [
        "#### Paired vs. unpaired\n",
        "It is rare to use a paired test for A/B test in data science, however it is worth knowing the difference. For an unpaired test, each participant in the study receives exactly one treatment, i.e. each participant is either in group A or group B but never in both. \n",
        "\n",
        "In the paired scenario, we give each participant both treatment A and treatment B. The assumption is that the first treatment will not affect the outcome of the second treatment. A possible example of a paired test could be if we wanted to test if shoes A or shoes B helped the wearer with the height of their jumps. We can have each person try on shoes A and shoes B and jump and we can measure their height. And it seems safe to assume that their jumping ability will not change significantly from the first jump to the second jump. \n",
        "\n",
        "Paired test are nice since you would need fewer participants.\n",
        "\n",
        "\n"
      ]
    },
    {
      "cell_type": "markdown",
      "metadata": {
        "id": "ynrD5bufV_KJ",
        "colab_type": "text"
      },
      "source": [
        ""
      ]
    },
    {
      "cell_type": "code",
      "metadata": {
        "id": "GPEZMkg-V_KK",
        "colab_type": "code",
        "outputId": "383677a7-165b-4736-c56d-35018616dd77",
        "colab": {
          "base_uri": "https://localhost:8080/",
          "height": 193
        }
      },
      "source": [
        ""
      ],
      "execution_count": 0,
      "outputs": [
        {
          "output_type": "display_data",
          "data": {
            "text/plain": [
              "                 expected   observed\n",
              "Sao Paulo        212566.0   693020.0\n",
              "Rio De Janeiro   387150.0   613285.0\n",
              "Other           6063804.0  5357216.0"
            ],
            "text/html": [
              "<div>\n",
              "<style scoped>\n",
              "    .dataframe tbody tr th:only-of-type {\n",
              "        vertical-align: middle;\n",
              "    }\n",
              "\n",
              "    .dataframe tbody tr th {\n",
              "        vertical-align: top;\n",
              "    }\n",
              "\n",
              "    .dataframe thead th {\n",
              "        text-align: right;\n",
              "    }\n",
              "</style>\n",
              "<table border=\"1\" class=\"dataframe\">\n",
              "  <thead>\n",
              "    <tr style=\"text-align: right;\">\n",
              "      <th></th>\n",
              "      <th>expected</th>\n",
              "      <th>observed</th>\n",
              "    </tr>\n",
              "  </thead>\n",
              "  <tbody>\n",
              "    <tr>\n",
              "      <th>Sao Paulo</th>\n",
              "      <td>212566.0</td>\n",
              "      <td>693020.0</td>\n",
              "    </tr>\n",
              "    <tr>\n",
              "      <th>Rio De Janeiro</th>\n",
              "      <td>387150.0</td>\n",
              "      <td>613285.0</td>\n",
              "    </tr>\n",
              "    <tr>\n",
              "      <th>Other</th>\n",
              "      <td>6063804.0</td>\n",
              "      <td>5357216.0</td>\n",
              "    </tr>\n",
              "  </tbody>\n",
              "</table>\n",
              "</div>"
            ]
          },
          "metadata": {
            "tags": []
          }
        },
        {
          "output_type": "stream",
          "text": [
            "Chi-sq Statistic:\t1300371.39027\n",
            "Degrees Of Freedom:\t2\n",
            "P-Value:\t\t0.0\n"
          ],
          "name": "stdout"
        }
      ]
    },
    {
      "cell_type": "markdown",
      "metadata": {
        "id": "moQCoT7QOI0m",
        "colab_type": "text"
      },
      "source": [
        ""
      ]
    },
    {
      "cell_type": "markdown",
      "metadata": {
        "id": "jNt3hrExV_KI",
        "colab_type": "text"
      },
      "source": [
        "# Glossary\n",
        "\n",
        "***Probability Density Function (PDF)*** the PDF is the function that uniquely characterizes a probability distribution or a random varaiable $Y$ and is denoted $f_Y(y)$. It satisfies the following properties:\n",
        "\n",
        "- $f_Y(y) \\geq 0$ for any $y\\in \\mathbb R$\n",
        "- $\\int_\\mathbb R f_Y(y) dy = 1$\n",
        "- $\\int_a^b f_Y(y) dy = P(a\\leq Y\\leq b)$\n",
        "\n",
        "***Cummulative Distribution Function (CDF)*** the CDF is the function that uniquely characterizes a probability distribution or a random varaiable $Y$ and is denoted $F_Y(y)$. It satisfies the following properties:\n",
        "\n",
        "- $\\lim_{y\\to-\\infty} F_Y(y) = 0$\n",
        "- $\\lim_{y\\to \\infty} F_Y(y) = 1$\n",
        "- $F_Y(a) = \\int_{-\\infty}^{a}f_Y(y)dy = P(y\\leq a)$\n",
        "\n",
        "Note for the standard normal distribution $z$, the CDF is denoted $F_Z(y)$.\n",
        "\n",
        " ***Expected Value*** The expected value of a random variable $Y$ is denoted $\\mathbb E(Y)$ and is defined by \n",
        " $$\\mathbb E(Y) = \\int_\\mathbb R y\\cdot f_Y(y) dy$$\n",
        " \n",
        " ***Variance*** The variance of a random variable $Y$ is denoted $var(Y)$ and is defined as \n",
        " $$ var(Y) = \\int_\\mathbb R \\big(y-\\mathbb E(Y)\\big)^2\\cdot f_Y(y) dy$$"
      ]
    },
    {
      "cell_type": "code",
      "metadata": {
        "id": "b0ZPUUM-OE9-",
        "colab_type": "code",
        "colab": {}
      },
      "source": [
        ""
      ],
      "execution_count": 0,
      "outputs": []
    }
  ]
}
